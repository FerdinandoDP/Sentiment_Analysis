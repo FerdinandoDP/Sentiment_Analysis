{
  "nbformat": 4,
  "nbformat_minor": 0,
  "metadata": {
    "colab": {
      "provenance": []
    },
    "kernelspec": {
      "name": "python3",
      "display_name": "Python 3"
    },
    "language_info": {
      "name": "python"
    }
  },
  "cells": [
    {
      "cell_type": "markdown",
      "source": [
        "# DataBase connection"
      ],
      "metadata": {
        "id": "7_FMqrCcDlsk"
      }
    },
    {
      "cell_type": "code",
      "execution_count": null,
      "metadata": {
        "id": "dSPz3yOoCCl7"
      },
      "outputs": [],
      "source": [
        "# Run below commands in google colab\n",
        "# install Java8\n",
        "!apt-get install openjdk-8-jdk-headless -qq > /dev/null\n",
        "# download spark3.0.0\n",
        "!wget -q http://apache.osuosl.org/spark/spark-2.4.8/spark-2.4.8-bin-hadoop2.7.tgz\n",
        "# unzip it\n",
        "!tar xf spark-2.4.8-bin-hadoop2.7.tgz\n",
        "# install findspark \n",
        "!pip install -q findspark"
      ]
    },
    {
      "cell_type": "code",
      "source": [
        "import os\n",
        "os.environ[\"JAVA_HOME\"] = \"/usr/lib/jvm/java-8-openjdk-amd64\"\n",
        "os.environ[\"SPARK_HOME\"] = \"/content/spark-2.4.8-bin-hadoop2.7\"\n",
        "import findspark\n",
        "findspark.init()"
      ],
      "metadata": {
        "id": "o0l_X2hcCKZq"
      },
      "execution_count": null,
      "outputs": []
    },
    {
      "cell_type": "code",
      "source": [
        "from pyspark import SparkContext\n",
        "from pyspark.sql import SparkSession"
      ],
      "metadata": {
        "id": "EZAkHOCaCNRd"
      },
      "execution_count": null,
      "outputs": []
    },
    {
      "cell_type": "code",
      "source": [
        "spark = SparkSession \\\n",
        ".builder \\\n",
        ".appName('MasterDB') \\\n",
        ".config(\"spark.mongodb.connection.uri\", \"mongodb+srv://*************************************************\") \\\n",
        ".config('spark.jar.packages', 'org.mongodb.spark:mongo-spark-connector_2.11:2.4.1') \\\n",
        ".enableHiveSupport() \\\n",
        ".getOrCreate()"
      ],
      "metadata": {
        "id": "bZ-b-7MNCP84"
      },
      "execution_count": null,
      "outputs": []
    },
    {
      "cell_type": "code",
      "source": [
        "sc = SparkContext.getOrCreate()"
      ],
      "metadata": {
        "id": "TJsz7U4gC0Xo"
      },
      "execution_count": null,
      "outputs": []
    },
    {
      "cell_type": "markdown",
      "source": [
        "Inserire nell'output del codice qui di seguito i comandi commentati. Dopo il completamento delle operazioni, rinominare il file json presente nella cartella Sandwitch3.json con il nome di: 'data.json'.\n",
        "Fermare l'esecuzione del comando e proseguire con l'esecuzione dei comandi successivi"
      ],
      "metadata": {
        "id": "whvHJLxDgJdg"
      }
    },
    {
      "cell_type": "code",
      "source": [
        "#df = spark.read.format(\"com.mongodb.spark.sql.DefaultSource\").option(\"uri\", \"mongodb+srv://**********************************************************\").load()\n",
        "#df.coalesce(1).write.format('json').save('/content/Sandwitch3.json')\n",
        "!$SPARK_HOME/bin/pyspark --packages org.mongodb.spark:mongo-spark-connector_2.11:2.4.1"
      ],
      "metadata": {
        "colab": {
          "base_uri": "https://localhost:8080/"
        },
        "id": "hugdR20SDC8t",
        "outputId": "ff05cb7f-0362-46df-ffaa-d5564a0d6683"
      },
      "execution_count": null,
      "outputs": [
        {
          "output_type": "stream",
          "name": "stdout",
          "text": [
            "Python 3.7.13 (default, Apr 24 2022, 01:04:09) \n",
            "[GCC 7.5.0] on linux\n",
            "Type \"help\", \"copyright\", \"credits\" or \"license\" for more information.\n",
            "Ivy Default Cache set to: /root/.ivy2/cache\n",
            "The jars for the packages stored in: /root/.ivy2/jars\n",
            ":: loading settings :: url = jar:file:/content/spark-2.4.8-bin-hadoop2.7/jars/ivy-2.4.0.jar!/org/apache/ivy/core/settings/ivysettings.xml\n",
            "org.mongodb.spark#mongo-spark-connector_2.11 added as a dependency\n",
            ":: resolving dependencies :: org.apache.spark#spark-submit-parent-a5774794-c8b8-424a-9953-2294fb580a58;1.0\n",
            "\tconfs: [default]\n",
            "\tfound org.mongodb.spark#mongo-spark-connector_2.11;2.4.1 in central\n",
            "\tfound org.mongodb#mongo-java-driver;3.10.2 in central\n",
            "\t[3.10.2] org.mongodb#mongo-java-driver;[3.10,3.11)\n",
            "downloading https://repo1.maven.org/maven2/org/mongodb/spark/mongo-spark-connector_2.11/2.4.1/mongo-spark-connector_2.11-2.4.1.jar ...\n",
            "\t[SUCCESSFUL ] org.mongodb.spark#mongo-spark-connector_2.11;2.4.1!mongo-spark-connector_2.11.jar (86ms)\n",
            "downloading https://repo1.maven.org/maven2/org/mongodb/mongo-java-driver/3.10.2/mongo-java-driver-3.10.2.jar ...\n",
            "\t[SUCCESSFUL ] org.mongodb#mongo-java-driver;3.10.2!mongo-java-driver.jar (81ms)\n",
            ":: resolution report :: resolve 2396ms :: artifacts dl 172ms\n",
            "\t:: modules in use:\n",
            "\torg.mongodb#mongo-java-driver;3.10.2 from central in [default]\n",
            "\torg.mongodb.spark#mongo-spark-connector_2.11;2.4.1 from central in [default]\n",
            "\t---------------------------------------------------------------------\n",
            "\t|                  |            modules            ||   artifacts   |\n",
            "\t|       conf       | number| search|dwnlded|evicted|| number|dwnlded|\n",
            "\t---------------------------------------------------------------------\n",
            "\t|      default     |   2   |   2   |   2   |   0   ||   2   |   2   |\n",
            "\t---------------------------------------------------------------------\n",
            ":: retrieving :: org.apache.spark#spark-submit-parent-a5774794-c8b8-424a-9953-2294fb580a58\n",
            "\tconfs: [default]\n",
            "\t2 artifacts copied, 0 already retrieved (2985kB/11ms)\n",
            "22/06/19 06:54:02 WARN NativeCodeLoader: Unable to load native-hadoop library for your platform... using builtin-java classes where applicable\n",
            "Using Spark's default log4j profile: org/apache/spark/log4j-defaults.properties\n",
            "Setting default log level to \"WARN\".\n",
            "To adjust logging level use sc.setLogLevel(newLevel). For SparkR, use setLogLevel(newLevel).\n",
            "22/06/19 06:54:06 WARN Utils: Service 'SparkUI' could not bind on port 4040. Attempting port 4041.\n",
            "Welcome to\n",
            "      ____              __\n",
            "     / __/__  ___ _____/ /__\n",
            "    _\\ \\/ _ \\/ _ `/ __/  '_/\n",
            "   /__ / .__/\\_,_/_/ /_/\\_\\   version 2.4.8\n",
            "      /_/\n",
            "\n",
            "Using Python version 3.7.13 (default, Apr 24 2022 01:04:09)\n",
            "SparkSession available as 'spark'.\n",
            "ches?retryWrites=true&w=majority\").load()\n",
            ">>> df.coalesce(1).write.format('json').save('/content/Sandwitch3.json')\n",
            ">>> \n",
            "Traceback (most recent call last):\n",
            "  File \"/content/spark-2.4.8-bin-hadoop2.7/python/pyspark/context.py\", line 269, in signal_handler\n",
            "    self.cancelAllJobs()\n",
            "  File \"/content/spark-2.4.8-bin-hadoop2.7/python/pyspark/context.py\", line 1039, in cancelAllJobs\n",
            "    self._jsc.sc().cancelAllJobs()\n",
            "  File \"/content/spark-2.4.8-bin-hadoop2.7/python/lib/py4j-0.10.7-src.zip/py4j/java_gateway.py\", line 1255, in __call__\n",
            "  File \"/content/spark-2.4.8-bin-hadoop2.7/python/lib/py4j-0.10.7-src.zip/py4j/java_gateway.py\", line 983, in send_command\n",
            "  File \"/content/spark-2.4.8-bin-hadoop2.7/python/pyspark/context.py\", line 270, in signal_handler\n",
            "    raise KeyboardInterrupt()\n",
            "KeyboardInterrupt\n",
            ">>> ^C\n"
          ]
        }
      ]
    },
    {
      "cell_type": "markdown",
      "source": [
        "# Data Preparation"
      ],
      "metadata": {
        "id": "MlJakXd4ECuD"
      }
    },
    {
      "cell_type": "code",
      "source": [
        "df2 = spark.read.json('/content/Sandwitch3.json/data.json')"
      ],
      "metadata": {
        "id": "fgPPO_urECVF"
      },
      "execution_count": null,
      "outputs": []
    },
    {
      "cell_type": "code",
      "source": [
        "import re\n",
        "import string\n",
        "def remove_punct(text):\n",
        "    regex = re.compile('[' + re.escape(string.punctuation) + '0-9\\\\r\\\\t\\\\n]')\n",
        "    nopunct = regex.sub(\" \", text)\n",
        "    return nopunct\n",
        "\n",
        "def convert_rating(rating):\n",
        "    rating = int(rating)\n",
        "    if rating >=4: return 2\n",
        "    elif rating == 3: return 1\n",
        "    else: return 0"
      ],
      "metadata": {
        "id": "omg-xq-yEI_G"
      },
      "execution_count": null,
      "outputs": []
    },
    {
      "cell_type": "code",
      "source": [
        "from pyspark.sql.functions import *\n",
        "punct_remover = udf(lambda x: remove_punct(x))\n",
        "rating_convert = udf(lambda x: convert_rating(x))\n",
        "review_df = df2.select('review_id', punct_remover('text'), rating_convert('stars'))"
      ],
      "metadata": {
        "id": "TwGHZ3zOELvr"
      },
      "execution_count": null,
      "outputs": []
    },
    {
      "cell_type": "code",
      "source": [
        "from pyspark.sql.types import IntegerType\n",
        "review_df = review_df.withColumnRenamed('<lambda>(text)', 'text')\\\n",
        "                     .withColumn('label', review_df[\"<lambda>(stars)\"].cast(IntegerType()))\\\n",
        "                     .drop('<lambda>(stars)')"
      ],
      "metadata": {
        "id": "x78yXx5eEOhf"
      },
      "execution_count": null,
      "outputs": []
    },
    {
      "cell_type": "code",
      "source": [
        "from pyspark.ml.feature import *\n",
        "tok = Tokenizer(inputCol=\"text\", outputCol=\"words\")\n",
        "review_tokenized = tok.transform(review_df)"
      ],
      "metadata": {
        "id": "mW00SwRZERJO"
      },
      "execution_count": null,
      "outputs": []
    },
    {
      "cell_type": "code",
      "source": [
        "# remove stop words\n",
        "stopword_rm = StopWordsRemover(inputCol='words', outputCol='words_nsw')\n",
        "review_tokenized = stopword_rm.transform(review_tokenized)"
      ],
      "metadata": {
        "id": "RS-oXitcET1g"
      },
      "execution_count": null,
      "outputs": []
    },
    {
      "cell_type": "code",
      "source": [
        "review_tokenized.show()"
      ],
      "metadata": {
        "colab": {
          "base_uri": "https://localhost:8080/"
        },
        "id": "EH-DaPeTJib0",
        "outputId": "021b78f5-e4cd-4baf-cb08-b7140adb9d7c"
      },
      "execution_count": null,
      "outputs": [
        {
          "output_type": "stream",
          "name": "stdout",
          "text": [
            "+--------------------+--------------------+-----+--------------------+--------------------+\n",
            "|           review_id|                text|label|               words|           words_nsw|\n",
            "+--------------------+--------------------+-----+--------------------+--------------------+\n",
            "|KU_O5udG6zpxOg-Vc...|If you decide to ...|    1|[if, you, decide,...|[decide, eat, , a...|\n",
            "|Sx8TMOWLNuJBWer-0...|Cute interior and...|    2|[cute, interior, ...|[cute, interior, ...|\n",
            "|OAhBYw8IQ6wlfw1ow...|Great place for b...|    2|[great, place, fo...|[great, place, br...|\n",
            "|40thYphUgIfvJq17Q...|Great staff alway...|    2|[great, staff, al...|[great, staff, al...|\n",
            "|L0jv8c2FbpWSlfNC6...|What a great addi...|    2|[what, a, great, ...|[great, addition,...|\n",
            "|JBWZmBy69VMggxj3e...|My boyfriend and ...|    2|[my, boyfriend, a...|[boyfriend, tried...|\n",
            "|qGQvUHmC02PAZW3H1...|Stopped by after ...|    2|[stopped, by, aft...|[stopped, sunday,...|\n",
            "|A4n4YaE-owOVgTQcr...|The cafe was extr...|    2|[the, cafe, was, ...|[cafe, extremely,...|\n",
            "|mCVyppNwK2qPOJHXg...|My brother came t...|    2|[my, brother, cam...|[brother, came, v...|\n",
            "|Ad91EzbAGRCR1SwkP...|Traveling through...|    2|[traveling, throu...|[traveling, rv, ,...|\n",
            "|Lk21QNbrI_e3nf0Gv...|Our family return...|    2|[our, family, ret...|[family, returned...|\n",
            "|5obXxR0b94b5q6j1z...|We visited once a...|    0|[we, visited, onc...|[visited, disappo...|\n",
            "|RGV9GWhAAfAAlYyd4...|A couple friends ...|    1|[a, couple, frien...|[couple, friends,...|\n",
            "|vZNDuj4a8cFQV9t6-...|Great food  Terri...|    1|[great, food, , t...|[great, food, , t...|\n",
            "|S4nZgOgiv9w8MOiaW...|I first heard abo...|    2|[i, first, heard,...|[first, heard, pl...|\n",
            "|zqmkEnp1kfU2vosDc...|Yes  I love this ...|    2|[yes, , i, love, ...|[yes, , love, pla...|\n",
            "|pJRn59F_lyNO1zT3T...|This is a pretty ...|    1|[this, is, a, pre...|[pretty, good, pa...|\n",
            "|d9j7KC7FTOkoI_L-i...|The owner of this...|    2|[the, owner, of, ...|[owner, location,...|\n",
            "|xilt6zGZ3Nqo2_fog...|By far the best d...|    2|[by, far, the, be...|[far, best, deli,...|\n",
            "|qsjMCjaEW9UWyzAw4...|I finally got to ...|    2|[i, finally, got,...|[finally, got, tr...|\n",
            "+--------------------+--------------------+-----+--------------------+--------------------+\n",
            "only showing top 20 rows\n",
            "\n"
          ]
        }
      ]
    },
    {
      "cell_type": "code",
      "source": [
        "%cd /content/spark-2.4.8-bin-hadoop2.7/jars\n",
        "!wget https://repo1.maven.org/maven2/org/datasyslab/geotools-wrapper/1.1.0-25.2/geotools-wrapper-1.1.0-25.2.jar\n",
        "!wget https://repo1.maven.org/maven2/org/apache/sedona/sedona-python-adapter-3.0_2.12/1.2.0-incubating/sedona-python-adapter-3.0_2.12-1.2.0-incubating.jar\n",
        "!wget https://repo1.maven.org/maven2/org/apache/sedona/sedona-viz-3.0_2.12/1.2.0-incubating/sedona-viz-3.0_2.12-1.2.0-incubating.jar"
      ],
      "metadata": {
        "colab": {
          "base_uri": "https://localhost:8080/"
        },
        "id": "yyhVptuHEWcS",
        "outputId": "4cdc6629-c11d-46f0-e3b7-e28f326b94bd"
      },
      "execution_count": null,
      "outputs": [
        {
          "output_type": "stream",
          "name": "stdout",
          "text": [
            "/content/spark-2.4.8-bin-hadoop2.7/jars\n",
            "--2022-06-19 06:58:15--  https://repo1.maven.org/maven2/org/datasyslab/geotools-wrapper/1.1.0-25.2/geotools-wrapper-1.1.0-25.2.jar\n",
            "Resolving repo1.maven.org (repo1.maven.org)... 199.232.192.209, 199.232.196.209\n",
            "Connecting to repo1.maven.org (repo1.maven.org)|199.232.192.209|:443... connected.\n",
            "HTTP request sent, awaiting response... 200 OK\n",
            "Length: 29767549 (28M) [application/java-archive]\n",
            "Saving to: ‘geotools-wrapper-1.1.0-25.2.jar’\n",
            "\n",
            "geotools-wrapper-1. 100%[===================>]  28.39M   154MB/s    in 0.2s    \n",
            "\n",
            "2022-06-19 06:58:15 (154 MB/s) - ‘geotools-wrapper-1.1.0-25.2.jar’ saved [29767549/29767549]\n",
            "\n",
            "--2022-06-19 06:58:15--  https://repo1.maven.org/maven2/org/apache/sedona/sedona-python-adapter-3.0_2.12/1.2.0-incubating/sedona-python-adapter-3.0_2.12-1.2.0-incubating.jar\n",
            "Resolving repo1.maven.org (repo1.maven.org)... 199.232.192.209, 199.232.196.209\n",
            "Connecting to repo1.maven.org (repo1.maven.org)|199.232.192.209|:443... connected.\n",
            "HTTP request sent, awaiting response... 200 OK\n",
            "Length: 2506068 (2.4M) [application/java-archive]\n",
            "Saving to: ‘sedona-python-adapter-3.0_2.12-1.2.0-incubating.jar’\n",
            "\n",
            "sedona-python-adapt 100%[===================>]   2.39M  --.-KB/s    in 0.04s   \n",
            "\n",
            "2022-06-19 06:58:15 (64.2 MB/s) - ‘sedona-python-adapter-3.0_2.12-1.2.0-incubating.jar’ saved [2506068/2506068]\n",
            "\n",
            "--2022-06-19 06:58:15--  https://repo1.maven.org/maven2/org/apache/sedona/sedona-viz-3.0_2.12/1.2.0-incubating/sedona-viz-3.0_2.12-1.2.0-incubating.jar\n",
            "Resolving repo1.maven.org (repo1.maven.org)... 199.232.192.209, 199.232.196.209\n",
            "Connecting to repo1.maven.org (repo1.maven.org)|199.232.192.209|:443... connected.\n",
            "HTTP request sent, awaiting response... 200 OK\n",
            "Length: 429744 (420K) [application/java-archive]\n",
            "Saving to: ‘sedona-viz-3.0_2.12-1.2.0-incubating.jar’\n",
            "\n",
            "sedona-viz-3.0_2.12 100%[===================>] 419.67K  --.-KB/s    in 0.02s   \n",
            "\n",
            "2022-06-19 06:58:16 (19.8 MB/s) - ‘sedona-viz-3.0_2.12-1.2.0-incubating.jar’ saved [429744/429744]\n",
            "\n"
          ]
        }
      ]
    },
    {
      "cell_type": "code",
      "source": [
        "df2.show()"
      ],
      "metadata": {
        "colab": {
          "base_uri": "https://localhost:8080/"
        },
        "id": "GY3HMudSJy7N",
        "outputId": "9039145a-6a4f-4dfc-b955-77f33a3e570f"
      },
      "execution_count": null,
      "outputs": [
        {
          "output_type": "stream",
          "name": "stdout",
          "text": [
            "+--------------------+--------------------+--------------------+-----+-----+--------------------+\n",
            "|                 _id|          categories|           review_id|stars|state|                text|\n",
            "+--------------------+--------------------+--------------------+-----+-----+--------------------+\n",
            "|[62adaa1578d7c816...|Restaurants, Brea...|KU_O5udG6zpxOg-Vc...|    3|   PA|If you decide to ...|\n",
            "|[62adaa1578d7c816...|Sandwiches, Beer,...|Sx8TMOWLNuJBWer-0...|    4|   LA|Cute interior and...|\n",
            "|[62adaa1578d7c816...|Sandwiches, Resta...|OAhBYw8IQ6wlfw1ow...|    5|   FL|Great place for b...|\n",
            "|[62adaa1578d7c816...|Food, Coffee & Te...|40thYphUgIfvJq17Q...|    5|   PA|Great staff alway...|\n",
            "|[62adaa1578d7c816...|Food, Restaurants...|L0jv8c2FbpWSlfNC6...|    5|   CA|What a great addi...|\n",
            "|[62adaa1578d7c816...|Restaurants, Deli...|JBWZmBy69VMggxj3e...|    5|   PA|My boyfriend and ...|\n",
            "|[62adaa1578d7c816...|Bagels, Sporting ...|qGQvUHmC02PAZW3H1...|    5|   TN|Stopped by after ...|\n",
            "|[62adaa1578d7c816...|Sandwiches, Break...|A4n4YaE-owOVgTQcr...|    4|   LA|The cafe was extr...|\n",
            "|[62adaa1578d7c816...|Chicken Wings, Ni...|mCVyppNwK2qPOJHXg...|    5|   PA|My brother came t...|\n",
            "|[62adaa1578d7c816...|Sandwiches, Burge...|Ad91EzbAGRCR1SwkP...|    5|   IL|Traveling through...|\n",
            "|[62adaa1578d7c816...|Event Planning & ...|Lk21QNbrI_e3nf0Gv...|    5|   ID|Our family return...|\n",
            "|[62adaa1578d7c816...|Chicken Wings, Re...|5obXxR0b94b5q6j1z...|    1|   CA|We visited once a...|\n",
            "|[62adaa1578d7c816...|Food, Sandwiches,...|RGV9GWhAAfAAlYyd4...|    3|   PA|A couple friends ...|\n",
            "|[62adaa1578d7c816...|Restaurants, Brea...|vZNDuj4a8cFQV9t6-...|    3|   PA|Great food. Terri...|\n",
            "|[62adaa1578d7c816...|Restaurants, Sand...|S4nZgOgiv9w8MOiaW...|    5|   TN|I first heard abo...|\n",
            "|[62adaa1578d7c816...|Restaurants, Food...|zqmkEnp1kfU2vosDc...|    5|   LA|Yes! I love this ...|\n",
            "|[62adaa1578d7c816...|Restaurants, Sand...|pJRn59F_lyNO1zT3T...|    3|   TN|This is a pretty ...|\n",
            "|[62adaa1578d7c816...|Soup, Salad, Amer...|d9j7KC7FTOkoI_L-i...|    5|   PA|The owner of this...|\n",
            "|[62adaa1578d7c816...|Delis, Bars, Rest...|xilt6zGZ3Nqo2_fog...|    5|   MO|By far the best d...|\n",
            "|[62adaa1578d7c816...|Salad, Sandwiches...|qsjMCjaEW9UWyzAw4...|    5|   PA|I finally got to ...|\n",
            "+--------------------+--------------------+--------------------+-----+-----+--------------------+\n",
            "only showing top 20 rows\n",
            "\n"
          ]
        }
      ]
    },
    {
      "cell_type": "code",
      "source": [
        "df2 = df2.drop('_id')\n",
        "df2 = df2.drop('categories')\n",
        "df2 = df2.drop('stars')\n",
        "df2 = df2.drop('text')"
      ],
      "metadata": {
        "id": "CYs3VxO6J8kB"
      },
      "execution_count": null,
      "outputs": []
    },
    {
      "cell_type": "code",
      "source": [
        "df2.show()"
      ],
      "metadata": {
        "colab": {
          "base_uri": "https://localhost:8080/"
        },
        "id": "TUbmEn_3Kd4T",
        "outputId": "395469b0-7637-444e-c560-9bacba040a92"
      },
      "execution_count": null,
      "outputs": [
        {
          "output_type": "stream",
          "name": "stdout",
          "text": [
            "+--------------------+-----+\n",
            "|           review_id|state|\n",
            "+--------------------+-----+\n",
            "|KU_O5udG6zpxOg-Vc...|   PA|\n",
            "|Sx8TMOWLNuJBWer-0...|   LA|\n",
            "|OAhBYw8IQ6wlfw1ow...|   FL|\n",
            "|40thYphUgIfvJq17Q...|   PA|\n",
            "|L0jv8c2FbpWSlfNC6...|   CA|\n",
            "|JBWZmBy69VMggxj3e...|   PA|\n",
            "|qGQvUHmC02PAZW3H1...|   TN|\n",
            "|A4n4YaE-owOVgTQcr...|   LA|\n",
            "|mCVyppNwK2qPOJHXg...|   PA|\n",
            "|Ad91EzbAGRCR1SwkP...|   IL|\n",
            "|Lk21QNbrI_e3nf0Gv...|   ID|\n",
            "|5obXxR0b94b5q6j1z...|   CA|\n",
            "|RGV9GWhAAfAAlYyd4...|   PA|\n",
            "|vZNDuj4a8cFQV9t6-...|   PA|\n",
            "|S4nZgOgiv9w8MOiaW...|   TN|\n",
            "|zqmkEnp1kfU2vosDc...|   LA|\n",
            "|pJRn59F_lyNO1zT3T...|   TN|\n",
            "|d9j7KC7FTOkoI_L-i...|   PA|\n",
            "|xilt6zGZ3Nqo2_fog...|   MO|\n",
            "|qsjMCjaEW9UWyzAw4...|   PA|\n",
            "+--------------------+-----+\n",
            "only showing top 20 rows\n",
            "\n"
          ]
        }
      ]
    },
    {
      "cell_type": "code",
      "source": [
        "splits = review_tokenized.randomSplit([0.7,0.3],seed=100)\n",
        "train = splits[0]\n",
        "test = splits[1]"
      ],
      "metadata": {
        "id": "tGSZSdKSEaLC"
      },
      "execution_count": null,
      "outputs": []
    },
    {
      "cell_type": "code",
      "source": [
        "from pyspark.ml import Pipeline\n",
        "n = 3\n",
        "def build_trigrams(inputCol=[\"words_nsw\"], n=3):\n",
        "    ngrams = [\n",
        "        NGram(n=i, inputCol=\"words_nsw\", outputCol=\"{0}_grams\".format(i))\n",
        "        for i in range(1, n + 1)\n",
        "    ]\n",
        "    cv = [\n",
        "          CountVectorizer(vocabSize=2**14,inputCol=\"{0}_grams\".format(i),\n",
        "              outputCol=\"{0}_tf\".format(i))\n",
        "          for i in range(1, n + 1)\n",
        "      ]\n",
        "    idf = [IDF(inputCol=\"{0}_tf\".format(i), outputCol=\"{0}_tfidf\".format(i), minDocFreq=5) for i in range(1, n + 1)]\n",
        " \n",
        "    assembler = [VectorAssembler(\n",
        "        inputCols=[\"{0}_tfidf\".format(i) for i in range(1, n + 1)],\n",
        "        outputCol=\"features\"\n",
        "    )]\n",
        "    return Pipeline(stages=ngrams + cv + idf + assembler)\n",
        "\n",
        "trigrams_builder = build_trigrams().fit(train)"
      ],
      "metadata": {
        "id": "1gX95ITmEc-k"
      },
      "execution_count": null,
      "outputs": []
    },
    {
      "cell_type": "code",
      "source": [
        "train_f = trigrams_builder.transform(train)"
      ],
      "metadata": {
        "id": "y75k6bnSEgK4"
      },
      "execution_count": null,
      "outputs": []
    },
    {
      "cell_type": "code",
      "source": [
        "test_f = trigrams_builder.transform(test)"
      ],
      "metadata": {
        "id": "kMF5enBUEjhw"
      },
      "execution_count": null,
      "outputs": []
    },
    {
      "cell_type": "code",
      "source": [
        "train_f = train_f.select(['review_id','features','label']).cache()\n",
        "test_f = test_f.select(['review_id','features','label']).cache()"
      ],
      "metadata": {
        "id": "JU7v2sR5EmCF"
      },
      "execution_count": null,
      "outputs": []
    },
    {
      "cell_type": "code",
      "source": [
        "train_f.show()"
      ],
      "metadata": {
        "colab": {
          "base_uri": "https://localhost:8080/"
        },
        "id": "k0enedYjLkV_",
        "outputId": "4cf9bdb3-22ae-4e25-82c5-e7a1a3048ec2"
      },
      "execution_count": null,
      "outputs": [
        {
          "output_type": "stream",
          "name": "stdout",
          "text": [
            "+--------------------+--------------------+-----+\n",
            "|           review_id|            features|label|\n",
            "+--------------------+--------------------+-----+\n",
            "|--1qZGjv7QmhOl6oM...|(49152,[0,5,9,10,...|    0|\n",
            "|--2p5FajyhBVDP4mE...|(49152,[0,9,16,40...|    0|\n",
            "|--31YAQSS12djWLzr...|(49152,[0,7,9,12,...|    0|\n",
            "|--6LVUGf9g8jAnJLC...|(49152,[0,12,15,2...|    2|\n",
            "|--7P9vyDUYRTlGN5j...|(49152,[0,2,3,5,1...|    2|\n",
            "|--7rYd13Xc971wy3U...|(49152,[0,2,5,7,8...|    2|\n",
            "|--LY07gmzbdJqYH3E...|(49152,[0,2,5,13,...|    2|\n",
            "|--MH7M0oeKjPtEtV9...|(49152,[0,2,12,76...|    0|\n",
            "|--NVZE6Zpshs5Z0jR...|(49152,[0,1,5,44,...|    0|\n",
            "|--OoCf3YF_dn76-SW...|(49152,[0,11,17,1...|    1|\n",
            "|--R9gPPZpRwk14nkY...|(49152,[0,2,5,11,...|    1|\n",
            "|--RrOZv-5KewKALtS...|(49152,[0,1,2,5,1...|    2|\n",
            "|--SLCuhlm58GrBcru...|(49152,[0,1,3,6,7...|    0|\n",
            "|--VQPtRVXzarTPDZ2...|(49152,[0,5,9,10,...|    0|\n",
            "|--YCb3I1Uz6m5CViY...|(49152,[0,4,5,8,1...|    0|\n",
            "|--ZLBO8pffrdZA_KD...|(49152,[0,2,3,8,1...|    1|\n",
            "|--ZpMyndwYdmxHfnV...|(49152,[0,2,6,8,1...|    2|\n",
            "|--dWxMpcJm7rjtYt4...|(49152,[0,1,3,4,2...|    1|\n",
            "|--f09WNxK8zKfPWv4...|(49152,[0,1,2,3,5...|    1|\n",
            "|--fGuJyLS2rmkLOsV...|(49152,[0,3,4,12,...|    0|\n",
            "+--------------------+--------------------+-----+\n",
            "only showing top 20 rows\n",
            "\n"
          ]
        }
      ]
    },
    {
      "cell_type": "markdown",
      "source": [
        "# Model Selection"
      ],
      "metadata": {
        "id": "mHTaCY2BE3BZ"
      }
    },
    {
      "cell_type": "markdown",
      "source": [
        "SVM"
      ],
      "metadata": {
        "id": "9nFoAscLFgJt"
      }
    },
    {
      "cell_type": "code",
      "source": [
        "from pyspark.ml.classification import RandomForestClassifier, LinearSVC\n",
        "from pyspark.ml.tuning import CrossValidator, ParamGridBuilder, CrossValidatorModel\n",
        "from pyspark.ml.evaluation import MulticlassClassificationEvaluator\n",
        "from pyspark.ml.classification import  OneVsRest\n",
        "\n",
        "svm = LinearSVC()\n",
        "ovr = OneVsRest(classifier=svm, labelCol='label', featuresCol='features')\n",
        "\n",
        "# SVM\n",
        "crossval = CrossValidator(estimator=ovr,\n",
        "                          estimatorParamMaps=ParamGridBuilder().build(),\n",
        "                          evaluator=MulticlassClassificationEvaluator(metricName='accuracy'),\n",
        "                          numFolds=5,\n",
        "                          parallelism=4)"
      ],
      "metadata": {
        "id": "_6dwz1k1EuMR"
      },
      "execution_count": null,
      "outputs": []
    },
    {
      "cell_type": "code",
      "source": [
        "bestmodel= crossval.fit(train_f)"
      ],
      "metadata": {
        "id": "q2cbogRkExXn"
      },
      "execution_count": null,
      "outputs": []
    },
    {
      "cell_type": "code",
      "source": [
        "print(f'Best accuracy -> {bestmodel.avgMetrics[0]}')"
      ],
      "metadata": {
        "id": "3LFt8j_tEz2G",
        "colab": {
          "base_uri": "https://localhost:8080/"
        },
        "outputId": "06eb9073-8cc9-4acb-a4ec-224b8002c011"
      },
      "execution_count": null,
      "outputs": [
        {
          "output_type": "stream",
          "name": "stdout",
          "text": [
            "Best accuracy -> 0.8599848415745013\n"
          ]
        }
      ]
    },
    {
      "cell_type": "markdown",
      "source": [
        "RANDOM FOREST"
      ],
      "metadata": {
        "id": "h-6AxfmVFko_"
      }
    },
    {
      "cell_type": "code",
      "source": [
        "crossval2 = CrossValidator(estimator=RandomForestClassifier(),\n",
        "                          estimatorParamMaps=ParamGridBuilder().build(),\n",
        "                          evaluator=MulticlassClassificationEvaluator(metricName='accuracy'),\n",
        "                          numFolds=5,\n",
        "                          parallelism=4)"
      ],
      "metadata": {
        "id": "fsRuJaBrFHyh"
      },
      "execution_count": null,
      "outputs": []
    },
    {
      "cell_type": "code",
      "source": [
        "bestmodel2 = crossval2.fit(train_f)"
      ],
      "metadata": {
        "id": "7v6a_vRrFJKb"
      },
      "execution_count": null,
      "outputs": []
    },
    {
      "cell_type": "code",
      "source": [
        "print(f'Best accuracy -> {bestmodel2.avgMetrics[0]}')"
      ],
      "metadata": {
        "id": "i2E1QKoFFMw7",
        "colab": {
          "base_uri": "https://localhost:8080/"
        },
        "outputId": "9775799f-942d-48b8-c073-05d7e2442c86"
      },
      "execution_count": null,
      "outputs": [
        {
          "output_type": "stream",
          "name": "stdout",
          "text": [
            "Best accuracy -> 0.6976260625254567\n"
          ]
        }
      ]
    },
    {
      "cell_type": "markdown",
      "source": [
        "NAIVE BAYES"
      ],
      "metadata": {
        "id": "9njA-ERxFn-p"
      }
    },
    {
      "cell_type": "code",
      "source": [
        "from pyspark.ml.classification import NaiveBayes, NaiveBayesModel\n",
        "\n",
        "nb = NaiveBayes()\n",
        "ovr = OneVsRest(classifier=nb, labelCol='label', featuresCol='features')\n",
        "\n",
        "# NB\n",
        "crossval3 = CrossValidator(estimator=ovr,\n",
        "                          estimatorParamMaps=ParamGridBuilder().build(),\n",
        "                          evaluator=MulticlassClassificationEvaluator(metricName='accuracy'),\n",
        "                          numFolds=5,\n",
        "                          parallelism=4)\n"
      ],
      "metadata": {
        "id": "WdjJh5pVFQC0"
      },
      "execution_count": null,
      "outputs": []
    },
    {
      "cell_type": "code",
      "source": [
        "bestmodel3 = crossval3.fit(train_f)"
      ],
      "metadata": {
        "id": "0remyAIXFTcp"
      },
      "execution_count": null,
      "outputs": []
    },
    {
      "cell_type": "code",
      "source": [
        "print(f'Best accuracy -> {bestmodel3.avgMetrics[0]}')"
      ],
      "metadata": {
        "id": "b2FreW_JFVpj",
        "colab": {
          "base_uri": "https://localhost:8080/"
        },
        "outputId": "751c3ba4-4b24-4370-d321-52ffe940fc18"
      },
      "execution_count": null,
      "outputs": [
        {
          "output_type": "stream",
          "name": "stdout",
          "text": [
            "Best accuracy -> 0.8132377344548078\n"
          ]
        }
      ]
    },
    {
      "cell_type": "markdown",
      "source": [
        "LOGISTIC REGRESSION"
      ],
      "metadata": {
        "id": "pAfwrpLzFq_G"
      }
    },
    {
      "cell_type": "code",
      "source": [
        "from pyspark.ml.classification import LogisticRegression\n",
        "\n",
        "lr = LogisticRegression()\n",
        "ovr = OneVsRest(classifier=lr, labelCol='label', featuresCol='features')\n",
        "\n",
        "# LR\n",
        "crossval4 = CrossValidator(estimator=ovr,\n",
        "                          estimatorParamMaps=ParamGridBuilder().build(),\n",
        "                          evaluator=MulticlassClassificationEvaluator(metricName='accuracy'),\n",
        "                          numFolds=5,\n",
        "                          parallelism=4)"
      ],
      "metadata": {
        "id": "1Ey-KqkMFXqn"
      },
      "execution_count": null,
      "outputs": []
    },
    {
      "cell_type": "code",
      "source": [
        "bestmodel4 = crossval4.fit(train_f)"
      ],
      "metadata": {
        "id": "EBlLFJvlFatA"
      },
      "execution_count": null,
      "outputs": []
    },
    {
      "cell_type": "code",
      "source": [
        "print(f'Best accuracy -> {bestmodel4.avgMetrics[0]}')"
      ],
      "metadata": {
        "id": "K-p1QcQaFczk",
        "colab": {
          "base_uri": "https://localhost:8080/"
        },
        "outputId": "67d038ea-2c1f-402d-91c4-4f4418c2c3af"
      },
      "execution_count": null,
      "outputs": [
        {
          "output_type": "stream",
          "name": "stdout",
          "text": [
            "Best accuracy -> 0.8217810893985267\n"
          ]
        }
      ]
    },
    {
      "cell_type": "markdown",
      "source": [
        "# Evaluation"
      ],
      "metadata": {
        "id": "MRVCz3F9MJBI"
      }
    },
    {
      "cell_type": "code",
      "source": [
        "predictions = bestmodel.transform(test_f)"
      ],
      "metadata": {
        "id": "tnydKoGRMLnR"
      },
      "execution_count": null,
      "outputs": []
    },
    {
      "cell_type": "code",
      "source": [
        "evaluator = MulticlassClassificationEvaluator(predictionCol=\"prediction\")\n",
        "evaluator.evaluate(predictions)"
      ],
      "metadata": {
        "id": "7c3rRPN_MO5H",
        "colab": {
          "base_uri": "https://localhost:8080/"
        },
        "outputId": "0b0cf50b-0964-4b67-b7ec-766d0e19bd3b"
      },
      "execution_count": null,
      "outputs": [
        {
          "output_type": "execute_result",
          "data": {
            "text/plain": [
              "0.8538930342623292"
            ]
          },
          "metadata": {},
          "execution_count": 23
        }
      ]
    },
    {
      "cell_type": "markdown",
      "source": [
        "#Analisi Risultati"
      ],
      "metadata": {
        "id": "8blYT0GeOgCH"
      }
    },
    {
      "cell_type": "code",
      "source": [
        "predictions.show()"
      ],
      "metadata": {
        "id": "fSXcF_ftMRFg",
        "colab": {
          "base_uri": "https://localhost:8080/"
        },
        "outputId": "5fcd8a25-d157-4ce7-dcdb-aa9f26623810"
      },
      "execution_count": null,
      "outputs": [
        {
          "output_type": "stream",
          "name": "stdout",
          "text": [
            "+--------------------+--------------------+-----+----------+\n",
            "|           review_id|            features|label|prediction|\n",
            "+--------------------+--------------------+-----+----------+\n",
            "|--6ROZMJu22IL-xTp...|(49152,[0,3,9,12,...|    2|       2.0|\n",
            "|--9C_kg5WRVuJMqHj...|(49152,[0,1,3,10,...|    0|       0.0|\n",
            "|--DVI2tJfuL83Kxtn...|(49152,[0,4,6,11,...|    2|       2.0|\n",
            "|--ErNWkQ_WikueeIx...|(49152,[0,4,14,24...|    0|       2.0|\n",
            "|--RjvM2Gn3mWoQwhS...|(49152,[0,5,17,22...|    2|       2.0|\n",
            "|--UE7GSquo0AbTl8k...|(49152,[0,3,19,27...|    2|       2.0|\n",
            "|--UnH3qXADKVzgqdC...|(49152,[0,1,2,5,1...|    2|       2.0|\n",
            "|--WOjztZDfS7PrGIr...|(49152,[0,1,3,5,8...|    2|       2.0|\n",
            "|--_MftZAFiD8-3o9X...|(49152,[0,5,16,26...|    2|       0.0|\n",
            "|--cVB07L57FdknveQ...|(49152,[0,3,63,89...|    2|       2.0|\n",
            "|--kkSP4cNwj69fWr_...|(49152,[0,3,4,12,...|    1|       0.0|\n",
            "|--m5ksROYsBRjEvvJ...|(49152,[0,2,14,19...|    2|       2.0|\n",
            "|--m9ha-OEYtZmTg6C...|(49152,[0,1,2,6,2...|    2|       2.0|\n",
            "|--tmgErXL6dlDaV3n...|(49152,[0,1,4,6,1...|    2|       2.0|\n",
            "|--vn3RwPDAWhIKBNB...|(49152,[0,5,6,16,...|    2|       2.0|\n",
            "|--z4QkNQCCryrYcwf...|(49152,[0,1,2,3,4...|    2|       2.0|\n",
            "|-02Fv4_2p_OXa-swk...|(49152,[0,2,3,4,5...|    0|       2.0|\n",
            "|-05xobvuW48JlcQkz...|(49152,[0,3,10,12...|    2|       2.0|\n",
            "|-0Deriswm2p4PrmoN...|(49152,[0,17,22,2...|    0|       1.0|\n",
            "|-0EHr2_tjCSXbfhSU...|(49152,[0,1,2,4,5...|    1|       2.0|\n",
            "+--------------------+--------------------+-----+----------+\n",
            "only showing top 20 rows\n",
            "\n"
          ]
        }
      ]
    },
    {
      "cell_type": "code",
      "source": [
        "df2.withColumnRenamed(\"review_id\",\"reviews\")\n",
        "pred = predictions.join(df2, predictions.review_id == df2.reviews, 'left')"
      ],
      "metadata": {
        "id": "Si3UsspDMWm-"
      },
      "execution_count": null,
      "outputs": []
    },
    {
      "cell_type": "code",
      "source": [
        "pred.show()"
      ],
      "metadata": {
        "id": "fBVzyiwIOZwA",
        "colab": {
          "base_uri": "https://localhost:8080/"
        },
        "outputId": "0cbce346-f99d-4b3b-c0e0-1402a1c16c8a"
      },
      "execution_count": null,
      "outputs": [
        {
          "output_type": "stream",
          "name": "stdout",
          "text": [
            "+--------------------+--------------------+-----+----------+--------------------+-----+\n",
            "|           review_id|            features|label|prediction|           review_id|state|\n",
            "+--------------------+--------------------+-----+----------+--------------------+-----+\n",
            "|--zAqGUeMdjJ0aeX0...|(49152,[0,7,12,21...|    2|       2.0|--zAqGUeMdjJ0aeX0...|   TN|\n",
            "|-8OCeO-WOJILhwrUX...|(49152,[0,3,8,9,1...|    2|       2.0|-8OCeO-WOJILhwrUX...|   MO|\n",
            "|-A9KRZAjatnKIKGkZ...|(49152,[0,3,5,15,...|    2|       2.0|-A9KRZAjatnKIKGkZ...|   PA|\n",
            "|-AQF4jRN2EMz5KIOW...|(49152,[0,1,2,3,4...|    2|       2.0|-AQF4jRN2EMz5KIOW...|   TN|\n",
            "|-GehB4C8_DeDOjToM...|(49152,[0,1,2,3,4...|    2|       2.0|-GehB4C8_DeDOjToM...|   IN|\n",
            "|-Jp67xnF9f9-Y41KE...|(49152,[0,3,7,8,1...|    0|       0.0|-Jp67xnF9f9-Y41KE...|   PA|\n",
            "|-NQInBApLOBqVhqNM...|(49152,[0,2,4,6,1...|    2|       2.0|-NQInBApLOBqVhqNM...|   FL|\n",
            "|-OsotBwMDsZNlM_Zg...|(49152,[0,8,21,26...|    2|       2.0|-OsotBwMDsZNlM_Zg...|   PA|\n",
            "|-SQXDf-c0aD6BHtqo...|(49152,[0,1,3,45,...|    0|       0.0|-SQXDf-c0aD6BHtqo...|   AZ|\n",
            "|-kZGB9pfo_iwKgkx_...|(49152,[0,2,3,6,2...|    0|       0.0|-kZGB9pfo_iwKgkx_...|   PA|\n",
            "|-oHKUphCKZhM4znLR...|(49152,[0,7,9,11,...|    0|       0.0|-oHKUphCKZhM4znLR...|   TN|\n",
            "|-qj6tB7Kv7L2cSCc4...|(49152,[0,1,9,11,...|    0|       0.0|-qj6tB7Kv7L2cSCc4...|   LA|\n",
            "|-v5NaUMjHo-sTshX0...|(49152,[0,1,3,4,1...|    2|       2.0|-v5NaUMjHo-sTshX0...|   TN|\n",
            "|-vcv3uAYHvKoLCJ5U...|(49152,[0,3,5,11,...|    0|       0.0|-vcv3uAYHvKoLCJ5U...|   NV|\n",
            "|-wy-GMm_Q89AucicN...|(49152,[0,2,4,5,8...|    0|       0.0|-wy-GMm_Q89AucicN...|   NJ|\n",
            "|02RtQ3WRmtakGCz8A...|(49152,[0,7,11,13...|    2|       0.0|02RtQ3WRmtakGCz8A...|   NV|\n",
            "|0ARayZQDFog4kfx7h...|(49152,[0,2,42,57...|    2|       2.0|0ARayZQDFog4kfx7h...|   LA|\n",
            "|0LDrnNemnQB_aIWxs...|(49152,[0,2,3,5,6...|    1|       1.0|0LDrnNemnQB_aIWxs...|   PA|\n",
            "|0LT32sweXbiuE8IMD...|(49152,[0,4,6,21,...|    2|       2.0|0LT32sweXbiuE8IMD...|   TN|\n",
            "|0OGbQ6ZaSVnU4_Xax...|(49152,[0,3,4,19,...|    2|       2.0|0OGbQ6ZaSVnU4_Xax...|   FL|\n",
            "+--------------------+--------------------+-----+----------+--------------------+-----+\n",
            "only showing top 20 rows\n",
            "\n"
          ]
        }
      ]
    },
    {
      "cell_type": "code",
      "source": [
        "pred.show()"
      ],
      "metadata": {
        "colab": {
          "base_uri": "https://localhost:8080/"
        },
        "id": "m5-O5NDyZ8j8",
        "outputId": "4908b476-5f87-43b3-9173-df99f279b8e3"
      },
      "execution_count": null,
      "outputs": [
        {
          "output_type": "stream",
          "name": "stdout",
          "text": [
            "+--------------------+--------------------+-----+----------+--------------------+-----+\n",
            "|           review_id|            features|label|prediction|           review_id|state|\n",
            "+--------------------+--------------------+-----+----------+--------------------+-----+\n",
            "|--zAqGUeMdjJ0aeX0...|(49152,[0,7,12,21...|    2|       2.0|--zAqGUeMdjJ0aeX0...|   TN|\n",
            "|-8OCeO-WOJILhwrUX...|(49152,[0,3,8,9,1...|    2|       2.0|-8OCeO-WOJILhwrUX...|   MO|\n",
            "|-A9KRZAjatnKIKGkZ...|(49152,[0,3,5,15,...|    2|       2.0|-A9KRZAjatnKIKGkZ...|   PA|\n",
            "|-AQF4jRN2EMz5KIOW...|(49152,[0,1,2,3,4...|    2|       2.0|-AQF4jRN2EMz5KIOW...|   TN|\n",
            "|-GehB4C8_DeDOjToM...|(49152,[0,1,2,3,4...|    2|       2.0|-GehB4C8_DeDOjToM...|   IN|\n",
            "|-Jp67xnF9f9-Y41KE...|(49152,[0,3,7,8,1...|    0|       0.0|-Jp67xnF9f9-Y41KE...|   PA|\n",
            "|-NQInBApLOBqVhqNM...|(49152,[0,2,4,6,1...|    2|       2.0|-NQInBApLOBqVhqNM...|   FL|\n",
            "|-OsotBwMDsZNlM_Zg...|(49152,[0,8,21,26...|    2|       2.0|-OsotBwMDsZNlM_Zg...|   PA|\n",
            "|-SQXDf-c0aD6BHtqo...|(49152,[0,1,3,45,...|    0|       0.0|-SQXDf-c0aD6BHtqo...|   AZ|\n",
            "|-kZGB9pfo_iwKgkx_...|(49152,[0,2,3,6,2...|    0|       0.0|-kZGB9pfo_iwKgkx_...|   PA|\n",
            "|-oHKUphCKZhM4znLR...|(49152,[0,7,9,11,...|    0|       0.0|-oHKUphCKZhM4znLR...|   TN|\n",
            "|-qj6tB7Kv7L2cSCc4...|(49152,[0,1,9,11,...|    0|       0.0|-qj6tB7Kv7L2cSCc4...|   LA|\n",
            "|-v5NaUMjHo-sTshX0...|(49152,[0,1,3,4,1...|    2|       2.0|-v5NaUMjHo-sTshX0...|   TN|\n",
            "|-vcv3uAYHvKoLCJ5U...|(49152,[0,3,5,11,...|    0|       0.0|-vcv3uAYHvKoLCJ5U...|   NV|\n",
            "|-wy-GMm_Q89AucicN...|(49152,[0,2,4,5,8...|    0|       0.0|-wy-GMm_Q89AucicN...|   NJ|\n",
            "|02RtQ3WRmtakGCz8A...|(49152,[0,7,11,13...|    2|       0.0|02RtQ3WRmtakGCz8A...|   NV|\n",
            "|0ARayZQDFog4kfx7h...|(49152,[0,2,42,57...|    2|       2.0|0ARayZQDFog4kfx7h...|   LA|\n",
            "|0LDrnNemnQB_aIWxs...|(49152,[0,2,3,5,6...|    1|       1.0|0LDrnNemnQB_aIWxs...|   PA|\n",
            "|0LT32sweXbiuE8IMD...|(49152,[0,4,6,21,...|    2|       2.0|0LT32sweXbiuE8IMD...|   TN|\n",
            "|0OGbQ6ZaSVnU4_Xax...|(49152,[0,3,4,19,...|    2|       2.0|0OGbQ6ZaSVnU4_Xax...|   FL|\n",
            "+--------------------+--------------------+-----+----------+--------------------+-----+\n",
            "only showing top 20 rows\n",
            "\n"
          ]
        }
      ]
    },
    {
      "cell_type": "code",
      "source": [
        "prov = pred.groupBy('state').sum('prediction')"
      ],
      "metadata": {
        "id": "RBeiECO5babs"
      },
      "execution_count": null,
      "outputs": []
    },
    {
      "cell_type": "code",
      "source": [
        "prov.show()"
      ],
      "metadata": {
        "colab": {
          "base_uri": "https://localhost:8080/"
        },
        "id": "9WPxPfR_bi5y",
        "outputId": "91477faa-be91-49e0-e5ef-96ce26ca214d"
      },
      "execution_count": null,
      "outputs": [
        {
          "output_type": "stream",
          "name": "stdout",
          "text": [
            "+-----+---------------+\n",
            "|state|sum(prediction)|\n",
            "+-----+---------------+\n",
            "|   AZ|        17050.0|\n",
            "|   LA|        45322.0|\n",
            "|   NJ|        10400.0|\n",
            "|   NV|        12859.0|\n",
            "|   ID|         7644.0|\n",
            "|   CA|        14346.0|\n",
            "|   DE|         2931.0|\n",
            "|   MO|        24393.0|\n",
            "|   IL|         1806.0|\n",
            "|   IN|        21807.0|\n",
            "|   TN|        27923.0|\n",
            "|   PA|        76328.0|\n",
            "|   AB|         2341.0|\n",
            "|   FL|        51801.0|\n",
            "+-----+---------------+\n",
            "\n"
          ]
        }
      ]
    },
    {
      "cell_type": "code",
      "source": [
        "states = prov.drop('sum(prediction)')"
      ],
      "metadata": {
        "id": "AAG4fK1yb15M"
      },
      "execution_count": null,
      "outputs": []
    },
    {
      "cell_type": "code",
      "source": [
        "states.show()"
      ],
      "metadata": {
        "colab": {
          "base_uri": "https://localhost:8080/"
        },
        "id": "H-YlO6fFb6dJ",
        "outputId": "3a147c21-0046-477d-eb07-e37e2d08b06d"
      },
      "execution_count": null,
      "outputs": [
        {
          "output_type": "stream",
          "name": "stdout",
          "text": [
            "+-----+\n",
            "|state|\n",
            "+-----+\n",
            "|   AZ|\n",
            "|   LA|\n",
            "|   NJ|\n",
            "|   NV|\n",
            "|   ID|\n",
            "|   CA|\n",
            "|   DE|\n",
            "|   MO|\n",
            "|   IL|\n",
            "|   IN|\n",
            "|   TN|\n",
            "|   PA|\n",
            "|   AB|\n",
            "|   FL|\n",
            "+-----+\n",
            "\n"
          ]
        }
      ]
    },
    {
      "cell_type": "code",
      "source": [
        "for x in states.rdd.collect():\n",
        "  print(x.state)\n",
        "  p2 = pred.filter(col('state')==x.state)\n",
        "  print(evaluator.evaluate(p2))\n"
      ],
      "metadata": {
        "colab": {
          "base_uri": "https://localhost:8080/"
        },
        "id": "V1-Oy4UecOPI",
        "outputId": "c2261bb0-b30c-4266-cbfb-c35a86069668"
      },
      "execution_count": null,
      "outputs": [
        {
          "output_type": "stream",
          "name": "stdout",
          "text": [
            "AZ\n",
            "0.8525439855675269\n",
            "LA\n",
            "0.8541647167410583\n",
            "NJ\n",
            "0.8468776803841283\n",
            "NV\n",
            "0.8696125015308969\n",
            "ID\n",
            "0.8805453309026109\n",
            "CA\n",
            "0.8759665862685062\n",
            "DE\n",
            "0.8423410445412531\n",
            "MO\n",
            "0.8634459272200306\n",
            "IL\n",
            "0.8386812231011626\n",
            "IN\n",
            "0.8591614298669961\n",
            "TN\n",
            "0.855925863691454\n",
            "PA\n",
            "0.8353164758178029\n",
            "AB\n",
            "0.8214179131773786\n",
            "FL\n",
            "0.865691806082538\n"
          ]
        }
      ]
    }
  ]
}
